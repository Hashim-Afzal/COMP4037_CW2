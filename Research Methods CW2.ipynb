{
 "cells": [
  {
   "cell_type": "code",
   "execution_count": 50,
   "id": "436f2cfb",
   "metadata": {
    "scrolled": false
   },
   "outputs": [
    {
     "data": {
      "application/vnd.plotly.v1+json": {
       "config": {
        "plotlyServerURL": "https://plot.ly"
       },
       "data": [
        {
         "branchvalues": "total",
         "customdata": [
          [
           0.193659
          ],
          [
           0.297564
          ],
          [
           0.501831
          ],
          [
           0.208937
          ],
          [
           0.048806
          ],
          [
           0.165726
          ],
          [
           0.119054
          ],
          [
           0.153039
          ],
          [
           0.241059
          ],
          [
           0.118915
          ],
          [
           0.038844
          ],
          [
           0.115231
          ],
          [
           0.149694
          ],
          [
           0.247092
          ],
          [
           0.470045
          ],
          [
           0.162005
          ],
          [
           0.03596
          ],
          [
           0.122472
          ],
          [
           0.116197
          ],
          [
           0.207058
          ],
          [
           0.389526
          ],
          [
           0.139136
          ],
          [
           0.011041
          ],
          [
           0.103478
          ],
          [
           0.12652
          ],
          [
           0.230565
          ],
          [
           0.45189
          ],
          [
           0.144425
          ],
          [
           0.052674
          ],
          [
           0.107083
          ],
          [
           0.20057500000000003
          ],
          [
           0.211062
          ],
          [
           0.299864
          ],
          [
           0.175849
          ],
          [
           0.138111
          ],
          [
           0.168676
          ],
          [
           0.175603
          ],
          [
           0.193526
          ],
          [
           0.260216
          ],
          [
           0.159212
          ],
          [
           0.071399
          ],
          [
           0.112086
          ],
          [
           0.16152911423080693
          ],
          [
           0.22797004569759455
          ],
          [
           0.3994949409622974
          ],
          [
           0.1628626307625133
          ],
          [
           0.08127539922385878
          ],
          [
           0.13292176040511786
          ]
         ],
         "domain": {
          "x": [
           0,
           1
          ],
          "y": [
           0,
           1
          ]
         },
         "hovertemplate": "labels=%{label}<br>relative_value_sum=%{value}<br>parent=%{parent}<br>id=%{id}<br>relative_value=%{color}<extra></extra>",
         "ids": [
          "fish/Acidification",
          "meat/Acidification",
          "meat100/Acidification",
          "meat50/Acidification",
          "vegan/Acidification",
          "veggie/Acidification",
          "fish/Bio Impact",
          "meat/Bio Impact",
          "meat100/Bio Impact",
          "meat50/Bio Impact",
          "vegan/Bio Impact",
          "veggie/Bio Impact",
          "fish/GHG",
          "meat/GHG",
          "meat100/GHG",
          "meat50/GHG",
          "vegan/GHG",
          "veggie/GHG",
          "fish/GHG CH4",
          "meat/GHG CH4",
          "meat100/GHG CH4",
          "meat50/GHG CH4",
          "vegan/GHG CH4",
          "veggie/GHG CH4",
          "fish/GHG N2O",
          "meat/GHG N2O",
          "meat100/GHG N2O",
          "meat50/GHG N2O",
          "vegan/GHG N2O",
          "veggie/GHG N2O",
          "fish/Water Scarcity",
          "meat/Water Scarcity",
          "meat100/Water Scarcity",
          "meat50/Water Scarcity",
          "vegan/Water Scarcity",
          "veggie/Water Scarcity",
          "fish/Water Usage",
          "meat/Water Usage",
          "meat100/Water Usage",
          "meat50/Water Usage",
          "vegan/Water Usage",
          "veggie/Water Usage",
          "fish",
          "meat",
          "meat100",
          "meat50",
          "vegan",
          "veggie"
         ],
         "labels": [
          "Acidification",
          "Acidification",
          "Acidification",
          "Acidification",
          "Acidification",
          "Acidification",
          "Bio Impact",
          "Bio Impact",
          "Bio Impact",
          "Bio Impact",
          "Bio Impact",
          "Bio Impact",
          "GHG",
          "GHG",
          "GHG",
          "GHG",
          "GHG",
          "GHG",
          "GHG CH4",
          "GHG CH4",
          "GHG CH4",
          "GHG CH4",
          "GHG CH4",
          "GHG CH4",
          "GHG N2O",
          "GHG N2O",
          "GHG N2O",
          "GHG N2O",
          "GHG N2O",
          "GHG N2O",
          "Water Scarcity",
          "Water Scarcity",
          "Water Scarcity",
          "Water Scarcity",
          "Water Scarcity",
          "Water Scarcity",
          "Water Usage",
          "Water Usage",
          "Water Usage",
          "Water Usage",
          "Water Usage",
          "Water Usage",
          "fish",
          "meat",
          "meat100",
          "meat50",
          "vegan",
          "veggie"
         ],
         "marker": {
          "coloraxis": "coloraxis",
          "colors": [
           0.193659,
           0.297564,
           0.501831,
           0.208937,
           0.048806,
           0.165726,
           0.119054,
           0.153039,
           0.241059,
           0.118915,
           0.038844,
           0.115231,
           0.149694,
           0.247092,
           0.470045,
           0.162005,
           0.03596,
           0.122472,
           0.116197,
           0.207058,
           0.389526,
           0.139136,
           0.011041,
           0.103478,
           0.12652,
           0.230565,
           0.45189,
           0.144425,
           0.052674,
           0.107083,
           0.20057500000000003,
           0.211062,
           0.299864,
           0.175849,
           0.138111,
           0.168676,
           0.175603,
           0.193526,
           0.260216,
           0.159212,
           0.071399,
           0.112086,
           0.16152911423080693,
           0.22797004569759455,
           0.3994949409622974,
           0.1628626307625133,
           0.08127539922385878,
           0.13292176040511786
          ]
         },
         "name": "",
         "parents": [
          "fish",
          "meat",
          "meat100",
          "meat50",
          "vegan",
          "veggie",
          "fish",
          "meat",
          "meat100",
          "meat50",
          "vegan",
          "veggie",
          "fish",
          "meat",
          "meat100",
          "meat50",
          "vegan",
          "veggie",
          "fish",
          "meat",
          "meat100",
          "meat50",
          "vegan",
          "veggie",
          "fish",
          "meat",
          "meat100",
          "meat50",
          "vegan",
          "veggie",
          "fish",
          "meat",
          "meat100",
          "meat50",
          "vegan",
          "veggie",
          "fish",
          "meat",
          "meat100",
          "meat50",
          "vegan",
          "veggie",
          "",
          "",
          "",
          "",
          "",
          ""
         ],
         "type": "treemap",
         "values": [
          0.193659,
          0.297564,
          0.501831,
          0.208937,
          0.048806,
          0.165726,
          0.119054,
          0.153039,
          0.241059,
          0.118915,
          0.038844,
          0.115231,
          0.149694,
          0.247092,
          0.470045,
          0.162005,
          0.03596,
          0.122472,
          0.116197,
          0.207058,
          0.389526,
          0.139136,
          0.011041,
          0.103478,
          0.12652,
          0.230565,
          0.45189,
          0.144425,
          0.052674,
          0.107083,
          0.200575,
          0.211062,
          0.299864,
          0.175849,
          0.138111,
          0.168676,
          0.175603,
          0.193526,
          0.260216,
          0.159212,
          0.071399,
          0.112086,
          1.081302,
          1.539906,
          2.614431,
          1.108479,
          0.396835,
          0.894752
         ]
        }
       ],
       "layout": {
        "coloraxis": {
         "colorbar": {
          "title": {
           "text": "relative_value"
          }
         },
         "colorscale": [
          [
           0,
           "rgb(0, 147, 146)"
          ],
          [
           0.16666666666666666,
           "rgb(57, 177, 133)"
          ],
          [
           0.3333333333333333,
           "rgb(156, 203, 134)"
          ],
          [
           0.5,
           "rgb(233, 226, 156)"
          ],
          [
           0.6666666666666666,
           "rgb(238, 180, 121)"
          ],
          [
           0.8333333333333334,
           "rgb(232, 132, 113)"
          ],
          [
           1,
           "rgb(207, 89, 126)"
          ]
         ]
        },
        "height": 700,
        "legend": {
         "tracegroupgap": 0
        },
        "margin": {
         "t": 60
        },
        "template": {
         "data": {
          "bar": [
           {
            "error_x": {
             "color": "#2a3f5f"
            },
            "error_y": {
             "color": "#2a3f5f"
            },
            "marker": {
             "line": {
              "color": "#E5ECF6",
              "width": 0.5
             },
             "pattern": {
              "fillmode": "overlay",
              "size": 10,
              "solidity": 0.2
             }
            },
            "type": "bar"
           }
          ],
          "barpolar": [
           {
            "marker": {
             "line": {
              "color": "#E5ECF6",
              "width": 0.5
             },
             "pattern": {
              "fillmode": "overlay",
              "size": 10,
              "solidity": 0.2
             }
            },
            "type": "barpolar"
           }
          ],
          "carpet": [
           {
            "aaxis": {
             "endlinecolor": "#2a3f5f",
             "gridcolor": "white",
             "linecolor": "white",
             "minorgridcolor": "white",
             "startlinecolor": "#2a3f5f"
            },
            "baxis": {
             "endlinecolor": "#2a3f5f",
             "gridcolor": "white",
             "linecolor": "white",
             "minorgridcolor": "white",
             "startlinecolor": "#2a3f5f"
            },
            "type": "carpet"
           }
          ],
          "choropleth": [
           {
            "colorbar": {
             "outlinewidth": 0,
             "ticks": ""
            },
            "type": "choropleth"
           }
          ],
          "contour": [
           {
            "colorbar": {
             "outlinewidth": 0,
             "ticks": ""
            },
            "colorscale": [
             [
              0,
              "#0d0887"
             ],
             [
              0.1111111111111111,
              "#46039f"
             ],
             [
              0.2222222222222222,
              "#7201a8"
             ],
             [
              0.3333333333333333,
              "#9c179e"
             ],
             [
              0.4444444444444444,
              "#bd3786"
             ],
             [
              0.5555555555555556,
              "#d8576b"
             ],
             [
              0.6666666666666666,
              "#ed7953"
             ],
             [
              0.7777777777777778,
              "#fb9f3a"
             ],
             [
              0.8888888888888888,
              "#fdca26"
             ],
             [
              1,
              "#f0f921"
             ]
            ],
            "type": "contour"
           }
          ],
          "contourcarpet": [
           {
            "colorbar": {
             "outlinewidth": 0,
             "ticks": ""
            },
            "type": "contourcarpet"
           }
          ],
          "heatmap": [
           {
            "colorbar": {
             "outlinewidth": 0,
             "ticks": ""
            },
            "colorscale": [
             [
              0,
              "#0d0887"
             ],
             [
              0.1111111111111111,
              "#46039f"
             ],
             [
              0.2222222222222222,
              "#7201a8"
             ],
             [
              0.3333333333333333,
              "#9c179e"
             ],
             [
              0.4444444444444444,
              "#bd3786"
             ],
             [
              0.5555555555555556,
              "#d8576b"
             ],
             [
              0.6666666666666666,
              "#ed7953"
             ],
             [
              0.7777777777777778,
              "#fb9f3a"
             ],
             [
              0.8888888888888888,
              "#fdca26"
             ],
             [
              1,
              "#f0f921"
             ]
            ],
            "type": "heatmap"
           }
          ],
          "heatmapgl": [
           {
            "colorbar": {
             "outlinewidth": 0,
             "ticks": ""
            },
            "colorscale": [
             [
              0,
              "#0d0887"
             ],
             [
              0.1111111111111111,
              "#46039f"
             ],
             [
              0.2222222222222222,
              "#7201a8"
             ],
             [
              0.3333333333333333,
              "#9c179e"
             ],
             [
              0.4444444444444444,
              "#bd3786"
             ],
             [
              0.5555555555555556,
              "#d8576b"
             ],
             [
              0.6666666666666666,
              "#ed7953"
             ],
             [
              0.7777777777777778,
              "#fb9f3a"
             ],
             [
              0.8888888888888888,
              "#fdca26"
             ],
             [
              1,
              "#f0f921"
             ]
            ],
            "type": "heatmapgl"
           }
          ],
          "histogram": [
           {
            "marker": {
             "pattern": {
              "fillmode": "overlay",
              "size": 10,
              "solidity": 0.2
             }
            },
            "type": "histogram"
           }
          ],
          "histogram2d": [
           {
            "colorbar": {
             "outlinewidth": 0,
             "ticks": ""
            },
            "colorscale": [
             [
              0,
              "#0d0887"
             ],
             [
              0.1111111111111111,
              "#46039f"
             ],
             [
              0.2222222222222222,
              "#7201a8"
             ],
             [
              0.3333333333333333,
              "#9c179e"
             ],
             [
              0.4444444444444444,
              "#bd3786"
             ],
             [
              0.5555555555555556,
              "#d8576b"
             ],
             [
              0.6666666666666666,
              "#ed7953"
             ],
             [
              0.7777777777777778,
              "#fb9f3a"
             ],
             [
              0.8888888888888888,
              "#fdca26"
             ],
             [
              1,
              "#f0f921"
             ]
            ],
            "type": "histogram2d"
           }
          ],
          "histogram2dcontour": [
           {
            "colorbar": {
             "outlinewidth": 0,
             "ticks": ""
            },
            "colorscale": [
             [
              0,
              "#0d0887"
             ],
             [
              0.1111111111111111,
              "#46039f"
             ],
             [
              0.2222222222222222,
              "#7201a8"
             ],
             [
              0.3333333333333333,
              "#9c179e"
             ],
             [
              0.4444444444444444,
              "#bd3786"
             ],
             [
              0.5555555555555556,
              "#d8576b"
             ],
             [
              0.6666666666666666,
              "#ed7953"
             ],
             [
              0.7777777777777778,
              "#fb9f3a"
             ],
             [
              0.8888888888888888,
              "#fdca26"
             ],
             [
              1,
              "#f0f921"
             ]
            ],
            "type": "histogram2dcontour"
           }
          ],
          "mesh3d": [
           {
            "colorbar": {
             "outlinewidth": 0,
             "ticks": ""
            },
            "type": "mesh3d"
           }
          ],
          "parcoords": [
           {
            "line": {
             "colorbar": {
              "outlinewidth": 0,
              "ticks": ""
             }
            },
            "type": "parcoords"
           }
          ],
          "pie": [
           {
            "automargin": true,
            "type": "pie"
           }
          ],
          "scatter": [
           {
            "fillpattern": {
             "fillmode": "overlay",
             "size": 10,
             "solidity": 0.2
            },
            "type": "scatter"
           }
          ],
          "scatter3d": [
           {
            "line": {
             "colorbar": {
              "outlinewidth": 0,
              "ticks": ""
             }
            },
            "marker": {
             "colorbar": {
              "outlinewidth": 0,
              "ticks": ""
             }
            },
            "type": "scatter3d"
           }
          ],
          "scattercarpet": [
           {
            "marker": {
             "colorbar": {
              "outlinewidth": 0,
              "ticks": ""
             }
            },
            "type": "scattercarpet"
           }
          ],
          "scattergeo": [
           {
            "marker": {
             "colorbar": {
              "outlinewidth": 0,
              "ticks": ""
             }
            },
            "type": "scattergeo"
           }
          ],
          "scattergl": [
           {
            "marker": {
             "colorbar": {
              "outlinewidth": 0,
              "ticks": ""
             }
            },
            "type": "scattergl"
           }
          ],
          "scattermapbox": [
           {
            "marker": {
             "colorbar": {
              "outlinewidth": 0,
              "ticks": ""
             }
            },
            "type": "scattermapbox"
           }
          ],
          "scatterpolar": [
           {
            "marker": {
             "colorbar": {
              "outlinewidth": 0,
              "ticks": ""
             }
            },
            "type": "scatterpolar"
           }
          ],
          "scatterpolargl": [
           {
            "marker": {
             "colorbar": {
              "outlinewidth": 0,
              "ticks": ""
             }
            },
            "type": "scatterpolargl"
           }
          ],
          "scatterternary": [
           {
            "marker": {
             "colorbar": {
              "outlinewidth": 0,
              "ticks": ""
             }
            },
            "type": "scatterternary"
           }
          ],
          "surface": [
           {
            "colorbar": {
             "outlinewidth": 0,
             "ticks": ""
            },
            "colorscale": [
             [
              0,
              "#0d0887"
             ],
             [
              0.1111111111111111,
              "#46039f"
             ],
             [
              0.2222222222222222,
              "#7201a8"
             ],
             [
              0.3333333333333333,
              "#9c179e"
             ],
             [
              0.4444444444444444,
              "#bd3786"
             ],
             [
              0.5555555555555556,
              "#d8576b"
             ],
             [
              0.6666666666666666,
              "#ed7953"
             ],
             [
              0.7777777777777778,
              "#fb9f3a"
             ],
             [
              0.8888888888888888,
              "#fdca26"
             ],
             [
              1,
              "#f0f921"
             ]
            ],
            "type": "surface"
           }
          ],
          "table": [
           {
            "cells": {
             "fill": {
              "color": "#EBF0F8"
             },
             "line": {
              "color": "white"
             }
            },
            "header": {
             "fill": {
              "color": "#C8D4E3"
             },
             "line": {
              "color": "white"
             }
            },
            "type": "table"
           }
          ]
         },
         "layout": {
          "annotationdefaults": {
           "arrowcolor": "#2a3f5f",
           "arrowhead": 0,
           "arrowwidth": 1
          },
          "autotypenumbers": "strict",
          "coloraxis": {
           "colorbar": {
            "outlinewidth": 0,
            "ticks": ""
           }
          },
          "colorscale": {
           "diverging": [
            [
             0,
             "#8e0152"
            ],
            [
             0.1,
             "#c51b7d"
            ],
            [
             0.2,
             "#de77ae"
            ],
            [
             0.3,
             "#f1b6da"
            ],
            [
             0.4,
             "#fde0ef"
            ],
            [
             0.5,
             "#f7f7f7"
            ],
            [
             0.6,
             "#e6f5d0"
            ],
            [
             0.7,
             "#b8e186"
            ],
            [
             0.8,
             "#7fbc41"
            ],
            [
             0.9,
             "#4d9221"
            ],
            [
             1,
             "#276419"
            ]
           ],
           "sequential": [
            [
             0,
             "#0d0887"
            ],
            [
             0.1111111111111111,
             "#46039f"
            ],
            [
             0.2222222222222222,
             "#7201a8"
            ],
            [
             0.3333333333333333,
             "#9c179e"
            ],
            [
             0.4444444444444444,
             "#bd3786"
            ],
            [
             0.5555555555555556,
             "#d8576b"
            ],
            [
             0.6666666666666666,
             "#ed7953"
            ],
            [
             0.7777777777777778,
             "#fb9f3a"
            ],
            [
             0.8888888888888888,
             "#fdca26"
            ],
            [
             1,
             "#f0f921"
            ]
           ],
           "sequentialminus": [
            [
             0,
             "#0d0887"
            ],
            [
             0.1111111111111111,
             "#46039f"
            ],
            [
             0.2222222222222222,
             "#7201a8"
            ],
            [
             0.3333333333333333,
             "#9c179e"
            ],
            [
             0.4444444444444444,
             "#bd3786"
            ],
            [
             0.5555555555555556,
             "#d8576b"
            ],
            [
             0.6666666666666666,
             "#ed7953"
            ],
            [
             0.7777777777777778,
             "#fb9f3a"
            ],
            [
             0.8888888888888888,
             "#fdca26"
            ],
            [
             1,
             "#f0f921"
            ]
           ]
          },
          "colorway": [
           "#636efa",
           "#EF553B",
           "#00cc96",
           "#ab63fa",
           "#FFA15A",
           "#19d3f3",
           "#FF6692",
           "#B6E880",
           "#FF97FF",
           "#FECB52"
          ],
          "font": {
           "color": "#2a3f5f"
          },
          "geo": {
           "bgcolor": "white",
           "lakecolor": "white",
           "landcolor": "#E5ECF6",
           "showlakes": true,
           "showland": true,
           "subunitcolor": "white"
          },
          "hoverlabel": {
           "align": "left"
          },
          "hovermode": "closest",
          "mapbox": {
           "style": "light"
          },
          "paper_bgcolor": "white",
          "plot_bgcolor": "#E5ECF6",
          "polar": {
           "angularaxis": {
            "gridcolor": "white",
            "linecolor": "white",
            "ticks": ""
           },
           "bgcolor": "#E5ECF6",
           "radialaxis": {
            "gridcolor": "white",
            "linecolor": "white",
            "ticks": ""
           }
          },
          "scene": {
           "xaxis": {
            "backgroundcolor": "#E5ECF6",
            "gridcolor": "white",
            "gridwidth": 2,
            "linecolor": "white",
            "showbackground": true,
            "ticks": "",
            "zerolinecolor": "white"
           },
           "yaxis": {
            "backgroundcolor": "#E5ECF6",
            "gridcolor": "white",
            "gridwidth": 2,
            "linecolor": "white",
            "showbackground": true,
            "ticks": "",
            "zerolinecolor": "white"
           },
           "zaxis": {
            "backgroundcolor": "#E5ECF6",
            "gridcolor": "white",
            "gridwidth": 2,
            "linecolor": "white",
            "showbackground": true,
            "ticks": "",
            "zerolinecolor": "white"
           }
          },
          "shapedefaults": {
           "line": {
            "color": "#2a3f5f"
           }
          },
          "ternary": {
           "aaxis": {
            "gridcolor": "white",
            "linecolor": "white",
            "ticks": ""
           },
           "baxis": {
            "gridcolor": "white",
            "linecolor": "white",
            "ticks": ""
           },
           "bgcolor": "#E5ECF6",
           "caxis": {
            "gridcolor": "white",
            "linecolor": "white",
            "ticks": ""
           }
          },
          "title": {
           "x": 0.05
          },
          "xaxis": {
           "automargin": true,
           "gridcolor": "white",
           "linecolor": "white",
           "ticks": "",
           "title": {
            "standoff": 15
           },
           "zerolinecolor": "white",
           "zerolinewidth": 2
          },
          "yaxis": {
           "automargin": true,
           "gridcolor": "white",
           "linecolor": "white",
           "ticks": "",
           "title": {
            "standoff": 15
           },
           "zerolinecolor": "white",
           "zerolinewidth": 2
          }
         }
        },
        "width": 1000
       }
      },
      "text/html": [
       "<div>                            <div id=\"657a3f02-3ae8-47bf-aa84-93db6a634c40\" class=\"plotly-graph-div\" style=\"height:700px; width:1000px;\"></div>            <script type=\"text/javascript\">                require([\"plotly\"], function(Plotly) {                    window.PLOTLYENV=window.PLOTLYENV || {};                                    if (document.getElementById(\"657a3f02-3ae8-47bf-aa84-93db6a634c40\")) {                    Plotly.newPlot(                        \"657a3f02-3ae8-47bf-aa84-93db6a634c40\",                        [{\"branchvalues\":\"total\",\"customdata\":[[0.193659],[0.297564],[0.501831],[0.208937],[0.048806],[0.165726],[0.119054],[0.153039],[0.241059],[0.118915],[0.038844],[0.115231],[0.149694],[0.247092],[0.470045],[0.162005],[0.03596],[0.122472],[0.116197],[0.207058],[0.389526],[0.139136],[0.011041],[0.103478],[0.12652],[0.230565],[0.45189],[0.144425],[0.052674],[0.107083],[0.20057500000000003],[0.211062],[0.299864],[0.175849],[0.138111],[0.168676],[0.175603],[0.193526],[0.260216],[0.159212],[0.071399],[0.112086],[0.16152911423080693],[0.22797004569759455],[0.3994949409622974],[0.1628626307625133],[0.08127539922385878],[0.13292176040511786]],\"domain\":{\"x\":[0.0,1.0],\"y\":[0.0,1.0]},\"hovertemplate\":\"labels=%{label}<br>relative_value_sum=%{value}<br>parent=%{parent}<br>id=%{id}<br>relative_value=%{color}<extra></extra>\",\"ids\":[\"fish/Acidification\",\"meat/Acidification\",\"meat100/Acidification\",\"meat50/Acidification\",\"vegan/Acidification\",\"veggie/Acidification\",\"fish/Bio Impact\",\"meat/Bio Impact\",\"meat100/Bio Impact\",\"meat50/Bio Impact\",\"vegan/Bio Impact\",\"veggie/Bio Impact\",\"fish/GHG\",\"meat/GHG\",\"meat100/GHG\",\"meat50/GHG\",\"vegan/GHG\",\"veggie/GHG\",\"fish/GHG CH4\",\"meat/GHG CH4\",\"meat100/GHG CH4\",\"meat50/GHG CH4\",\"vegan/GHG CH4\",\"veggie/GHG CH4\",\"fish/GHG N2O\",\"meat/GHG N2O\",\"meat100/GHG N2O\",\"meat50/GHG N2O\",\"vegan/GHG N2O\",\"veggie/GHG N2O\",\"fish/Water Scarcity\",\"meat/Water Scarcity\",\"meat100/Water Scarcity\",\"meat50/Water Scarcity\",\"vegan/Water Scarcity\",\"veggie/Water Scarcity\",\"fish/Water Usage\",\"meat/Water Usage\",\"meat100/Water Usage\",\"meat50/Water Usage\",\"vegan/Water Usage\",\"veggie/Water Usage\",\"fish\",\"meat\",\"meat100\",\"meat50\",\"vegan\",\"veggie\"],\"labels\":[\"Acidification\",\"Acidification\",\"Acidification\",\"Acidification\",\"Acidification\",\"Acidification\",\"Bio Impact\",\"Bio Impact\",\"Bio Impact\",\"Bio Impact\",\"Bio Impact\",\"Bio Impact\",\"GHG\",\"GHG\",\"GHG\",\"GHG\",\"GHG\",\"GHG\",\"GHG CH4\",\"GHG CH4\",\"GHG CH4\",\"GHG CH4\",\"GHG CH4\",\"GHG CH4\",\"GHG N2O\",\"GHG N2O\",\"GHG N2O\",\"GHG N2O\",\"GHG N2O\",\"GHG N2O\",\"Water Scarcity\",\"Water Scarcity\",\"Water Scarcity\",\"Water Scarcity\",\"Water Scarcity\",\"Water Scarcity\",\"Water Usage\",\"Water Usage\",\"Water Usage\",\"Water Usage\",\"Water Usage\",\"Water Usage\",\"fish\",\"meat\",\"meat100\",\"meat50\",\"vegan\",\"veggie\"],\"marker\":{\"coloraxis\":\"coloraxis\",\"colors\":[0.193659,0.297564,0.501831,0.208937,0.048806,0.165726,0.119054,0.153039,0.241059,0.118915,0.038844,0.115231,0.149694,0.247092,0.470045,0.162005,0.03596,0.122472,0.116197,0.207058,0.389526,0.139136,0.011041,0.103478,0.12652,0.230565,0.45189,0.144425,0.052674,0.107083,0.20057500000000003,0.211062,0.299864,0.175849,0.138111,0.168676,0.175603,0.193526,0.260216,0.159212,0.071399,0.112086,0.16152911423080693,0.22797004569759455,0.3994949409622974,0.1628626307625133,0.08127539922385878,0.13292176040511786]},\"name\":\"\",\"parents\":[\"fish\",\"meat\",\"meat100\",\"meat50\",\"vegan\",\"veggie\",\"fish\",\"meat\",\"meat100\",\"meat50\",\"vegan\",\"veggie\",\"fish\",\"meat\",\"meat100\",\"meat50\",\"vegan\",\"veggie\",\"fish\",\"meat\",\"meat100\",\"meat50\",\"vegan\",\"veggie\",\"fish\",\"meat\",\"meat100\",\"meat50\",\"vegan\",\"veggie\",\"fish\",\"meat\",\"meat100\",\"meat50\",\"vegan\",\"veggie\",\"fish\",\"meat\",\"meat100\",\"meat50\",\"vegan\",\"veggie\",\"\",\"\",\"\",\"\",\"\",\"\"],\"values\":[0.193659,0.297564,0.501831,0.208937,0.048806,0.165726,0.119054,0.153039,0.241059,0.118915,0.038844,0.115231,0.149694,0.247092,0.470045,0.162005,0.03596,0.122472,0.116197,0.207058,0.389526,0.139136,0.011041,0.103478,0.12652,0.230565,0.45189,0.144425,0.052674,0.107083,0.200575,0.211062,0.299864,0.175849,0.138111,0.168676,0.175603,0.193526,0.260216,0.159212,0.071399,0.112086,1.081302,1.539906,2.614431,1.108479,0.396835,0.894752],\"type\":\"treemap\"}],                        {\"template\":{\"data\":{\"histogram2dcontour\":[{\"type\":\"histogram2dcontour\",\"colorbar\":{\"outlinewidth\":0,\"ticks\":\"\"},\"colorscale\":[[0.0,\"#0d0887\"],[0.1111111111111111,\"#46039f\"],[0.2222222222222222,\"#7201a8\"],[0.3333333333333333,\"#9c179e\"],[0.4444444444444444,\"#bd3786\"],[0.5555555555555556,\"#d8576b\"],[0.6666666666666666,\"#ed7953\"],[0.7777777777777778,\"#fb9f3a\"],[0.8888888888888888,\"#fdca26\"],[1.0,\"#f0f921\"]]}],\"choropleth\":[{\"type\":\"choropleth\",\"colorbar\":{\"outlinewidth\":0,\"ticks\":\"\"}}],\"histogram2d\":[{\"type\":\"histogram2d\",\"colorbar\":{\"outlinewidth\":0,\"ticks\":\"\"},\"colorscale\":[[0.0,\"#0d0887\"],[0.1111111111111111,\"#46039f\"],[0.2222222222222222,\"#7201a8\"],[0.3333333333333333,\"#9c179e\"],[0.4444444444444444,\"#bd3786\"],[0.5555555555555556,\"#d8576b\"],[0.6666666666666666,\"#ed7953\"],[0.7777777777777778,\"#fb9f3a\"],[0.8888888888888888,\"#fdca26\"],[1.0,\"#f0f921\"]]}],\"heatmap\":[{\"type\":\"heatmap\",\"colorbar\":{\"outlinewidth\":0,\"ticks\":\"\"},\"colorscale\":[[0.0,\"#0d0887\"],[0.1111111111111111,\"#46039f\"],[0.2222222222222222,\"#7201a8\"],[0.3333333333333333,\"#9c179e\"],[0.4444444444444444,\"#bd3786\"],[0.5555555555555556,\"#d8576b\"],[0.6666666666666666,\"#ed7953\"],[0.7777777777777778,\"#fb9f3a\"],[0.8888888888888888,\"#fdca26\"],[1.0,\"#f0f921\"]]}],\"heatmapgl\":[{\"type\":\"heatmapgl\",\"colorbar\":{\"outlinewidth\":0,\"ticks\":\"\"},\"colorscale\":[[0.0,\"#0d0887\"],[0.1111111111111111,\"#46039f\"],[0.2222222222222222,\"#7201a8\"],[0.3333333333333333,\"#9c179e\"],[0.4444444444444444,\"#bd3786\"],[0.5555555555555556,\"#d8576b\"],[0.6666666666666666,\"#ed7953\"],[0.7777777777777778,\"#fb9f3a\"],[0.8888888888888888,\"#fdca26\"],[1.0,\"#f0f921\"]]}],\"contourcarpet\":[{\"type\":\"contourcarpet\",\"colorbar\":{\"outlinewidth\":0,\"ticks\":\"\"}}],\"contour\":[{\"type\":\"contour\",\"colorbar\":{\"outlinewidth\":0,\"ticks\":\"\"},\"colorscale\":[[0.0,\"#0d0887\"],[0.1111111111111111,\"#46039f\"],[0.2222222222222222,\"#7201a8\"],[0.3333333333333333,\"#9c179e\"],[0.4444444444444444,\"#bd3786\"],[0.5555555555555556,\"#d8576b\"],[0.6666666666666666,\"#ed7953\"],[0.7777777777777778,\"#fb9f3a\"],[0.8888888888888888,\"#fdca26\"],[1.0,\"#f0f921\"]]}],\"surface\":[{\"type\":\"surface\",\"colorbar\":{\"outlinewidth\":0,\"ticks\":\"\"},\"colorscale\":[[0.0,\"#0d0887\"],[0.1111111111111111,\"#46039f\"],[0.2222222222222222,\"#7201a8\"],[0.3333333333333333,\"#9c179e\"],[0.4444444444444444,\"#bd3786\"],[0.5555555555555556,\"#d8576b\"],[0.6666666666666666,\"#ed7953\"],[0.7777777777777778,\"#fb9f3a\"],[0.8888888888888888,\"#fdca26\"],[1.0,\"#f0f921\"]]}],\"mesh3d\":[{\"type\":\"mesh3d\",\"colorbar\":{\"outlinewidth\":0,\"ticks\":\"\"}}],\"scatter\":[{\"fillpattern\":{\"fillmode\":\"overlay\",\"size\":10,\"solidity\":0.2},\"type\":\"scatter\"}],\"parcoords\":[{\"type\":\"parcoords\",\"line\":{\"colorbar\":{\"outlinewidth\":0,\"ticks\":\"\"}}}],\"scatterpolargl\":[{\"type\":\"scatterpolargl\",\"marker\":{\"colorbar\":{\"outlinewidth\":0,\"ticks\":\"\"}}}],\"bar\":[{\"error_x\":{\"color\":\"#2a3f5f\"},\"error_y\":{\"color\":\"#2a3f5f\"},\"marker\":{\"line\":{\"color\":\"#E5ECF6\",\"width\":0.5},\"pattern\":{\"fillmode\":\"overlay\",\"size\":10,\"solidity\":0.2}},\"type\":\"bar\"}],\"scattergeo\":[{\"type\":\"scattergeo\",\"marker\":{\"colorbar\":{\"outlinewidth\":0,\"ticks\":\"\"}}}],\"scatterpolar\":[{\"type\":\"scatterpolar\",\"marker\":{\"colorbar\":{\"outlinewidth\":0,\"ticks\":\"\"}}}],\"histogram\":[{\"marker\":{\"pattern\":{\"fillmode\":\"overlay\",\"size\":10,\"solidity\":0.2}},\"type\":\"histogram\"}],\"scattergl\":[{\"type\":\"scattergl\",\"marker\":{\"colorbar\":{\"outlinewidth\":0,\"ticks\":\"\"}}}],\"scatter3d\":[{\"type\":\"scatter3d\",\"line\":{\"colorbar\":{\"outlinewidth\":0,\"ticks\":\"\"}},\"marker\":{\"colorbar\":{\"outlinewidth\":0,\"ticks\":\"\"}}}],\"scattermapbox\":[{\"type\":\"scattermapbox\",\"marker\":{\"colorbar\":{\"outlinewidth\":0,\"ticks\":\"\"}}}],\"scatterternary\":[{\"type\":\"scatterternary\",\"marker\":{\"colorbar\":{\"outlinewidth\":0,\"ticks\":\"\"}}}],\"scattercarpet\":[{\"type\":\"scattercarpet\",\"marker\":{\"colorbar\":{\"outlinewidth\":0,\"ticks\":\"\"}}}],\"carpet\":[{\"aaxis\":{\"endlinecolor\":\"#2a3f5f\",\"gridcolor\":\"white\",\"linecolor\":\"white\",\"minorgridcolor\":\"white\",\"startlinecolor\":\"#2a3f5f\"},\"baxis\":{\"endlinecolor\":\"#2a3f5f\",\"gridcolor\":\"white\",\"linecolor\":\"white\",\"minorgridcolor\":\"white\",\"startlinecolor\":\"#2a3f5f\"},\"type\":\"carpet\"}],\"table\":[{\"cells\":{\"fill\":{\"color\":\"#EBF0F8\"},\"line\":{\"color\":\"white\"}},\"header\":{\"fill\":{\"color\":\"#C8D4E3\"},\"line\":{\"color\":\"white\"}},\"type\":\"table\"}],\"barpolar\":[{\"marker\":{\"line\":{\"color\":\"#E5ECF6\",\"width\":0.5},\"pattern\":{\"fillmode\":\"overlay\",\"size\":10,\"solidity\":0.2}},\"type\":\"barpolar\"}],\"pie\":[{\"automargin\":true,\"type\":\"pie\"}]},\"layout\":{\"autotypenumbers\":\"strict\",\"colorway\":[\"#636efa\",\"#EF553B\",\"#00cc96\",\"#ab63fa\",\"#FFA15A\",\"#19d3f3\",\"#FF6692\",\"#B6E880\",\"#FF97FF\",\"#FECB52\"],\"font\":{\"color\":\"#2a3f5f\"},\"hovermode\":\"closest\",\"hoverlabel\":{\"align\":\"left\"},\"paper_bgcolor\":\"white\",\"plot_bgcolor\":\"#E5ECF6\",\"polar\":{\"bgcolor\":\"#E5ECF6\",\"angularaxis\":{\"gridcolor\":\"white\",\"linecolor\":\"white\",\"ticks\":\"\"},\"radialaxis\":{\"gridcolor\":\"white\",\"linecolor\":\"white\",\"ticks\":\"\"}},\"ternary\":{\"bgcolor\":\"#E5ECF6\",\"aaxis\":{\"gridcolor\":\"white\",\"linecolor\":\"white\",\"ticks\":\"\"},\"baxis\":{\"gridcolor\":\"white\",\"linecolor\":\"white\",\"ticks\":\"\"},\"caxis\":{\"gridcolor\":\"white\",\"linecolor\":\"white\",\"ticks\":\"\"}},\"coloraxis\":{\"colorbar\":{\"outlinewidth\":0,\"ticks\":\"\"}},\"colorscale\":{\"sequential\":[[0.0,\"#0d0887\"],[0.1111111111111111,\"#46039f\"],[0.2222222222222222,\"#7201a8\"],[0.3333333333333333,\"#9c179e\"],[0.4444444444444444,\"#bd3786\"],[0.5555555555555556,\"#d8576b\"],[0.6666666666666666,\"#ed7953\"],[0.7777777777777778,\"#fb9f3a\"],[0.8888888888888888,\"#fdca26\"],[1.0,\"#f0f921\"]],\"sequentialminus\":[[0.0,\"#0d0887\"],[0.1111111111111111,\"#46039f\"],[0.2222222222222222,\"#7201a8\"],[0.3333333333333333,\"#9c179e\"],[0.4444444444444444,\"#bd3786\"],[0.5555555555555556,\"#d8576b\"],[0.6666666666666666,\"#ed7953\"],[0.7777777777777778,\"#fb9f3a\"],[0.8888888888888888,\"#fdca26\"],[1.0,\"#f0f921\"]],\"diverging\":[[0,\"#8e0152\"],[0.1,\"#c51b7d\"],[0.2,\"#de77ae\"],[0.3,\"#f1b6da\"],[0.4,\"#fde0ef\"],[0.5,\"#f7f7f7\"],[0.6,\"#e6f5d0\"],[0.7,\"#b8e186\"],[0.8,\"#7fbc41\"],[0.9,\"#4d9221\"],[1,\"#276419\"]]},\"xaxis\":{\"gridcolor\":\"white\",\"linecolor\":\"white\",\"ticks\":\"\",\"title\":{\"standoff\":15},\"zerolinecolor\":\"white\",\"automargin\":true,\"zerolinewidth\":2},\"yaxis\":{\"gridcolor\":\"white\",\"linecolor\":\"white\",\"ticks\":\"\",\"title\":{\"standoff\":15},\"zerolinecolor\":\"white\",\"automargin\":true,\"zerolinewidth\":2},\"scene\":{\"xaxis\":{\"backgroundcolor\":\"#E5ECF6\",\"gridcolor\":\"white\",\"linecolor\":\"white\",\"showbackground\":true,\"ticks\":\"\",\"zerolinecolor\":\"white\",\"gridwidth\":2},\"yaxis\":{\"backgroundcolor\":\"#E5ECF6\",\"gridcolor\":\"white\",\"linecolor\":\"white\",\"showbackground\":true,\"ticks\":\"\",\"zerolinecolor\":\"white\",\"gridwidth\":2},\"zaxis\":{\"backgroundcolor\":\"#E5ECF6\",\"gridcolor\":\"white\",\"linecolor\":\"white\",\"showbackground\":true,\"ticks\":\"\",\"zerolinecolor\":\"white\",\"gridwidth\":2}},\"shapedefaults\":{\"line\":{\"color\":\"#2a3f5f\"}},\"annotationdefaults\":{\"arrowcolor\":\"#2a3f5f\",\"arrowhead\":0,\"arrowwidth\":1},\"geo\":{\"bgcolor\":\"white\",\"landcolor\":\"#E5ECF6\",\"subunitcolor\":\"white\",\"showland\":true,\"showlakes\":true,\"lakecolor\":\"white\"},\"title\":{\"x\":0.05},\"mapbox\":{\"style\":\"light\"}}},\"coloraxis\":{\"colorbar\":{\"title\":{\"text\":\"relative_value\"}},\"colorscale\":[[0.0,\"rgb(0, 147, 146)\"],[0.16666666666666666,\"rgb(57, 177, 133)\"],[0.3333333333333333,\"rgb(156, 203, 134)\"],[0.5,\"rgb(233, 226, 156)\"],[0.6666666666666666,\"rgb(238, 180, 121)\"],[0.8333333333333334,\"rgb(232, 132, 113)\"],[1.0,\"rgb(207, 89, 126)\"]]},\"legend\":{\"tracegroupgap\":0},\"margin\":{\"t\":60},\"height\":700,\"width\":1000},                        {\"responsive\": true}                    ).then(function(){\n",
       "                            \n",
       "var gd = document.getElementById('657a3f02-3ae8-47bf-aa84-93db6a634c40');\n",
       "var x = new MutationObserver(function (mutations, observer) {{\n",
       "        var display = window.getComputedStyle(gd).display;\n",
       "        if (!display || display === 'none') {{\n",
       "            console.log([gd, 'removed!']);\n",
       "            Plotly.purge(gd);\n",
       "            observer.disconnect();\n",
       "        }}\n",
       "}});\n",
       "\n",
       "// Listen for the removal of the full notebook cells\n",
       "var notebookContainer = gd.closest('#notebook-container');\n",
       "if (notebookContainer) {{\n",
       "    x.observe(notebookContainer, {childList: true});\n",
       "}}\n",
       "\n",
       "// Listen for the clearing of the current output cell\n",
       "var outputEl = gd.closest('.output');\n",
       "if (outputEl) {{\n",
       "    x.observe(outputEl, {childList: true});\n",
       "}}\n",
       "\n",
       "                        })                };                });            </script>        </div>"
      ]
     },
     "metadata": {},
     "output_type": "display_data"
    }
   ],
   "source": [
    "import matplotlib.pyplot as plt\n",
    "import numpy as np\n",
    "import pandas as pd\n",
    "import seaborn as sns\n",
    "import plotly.express as px\n",
    "from sklearn import preprocessing\n",
    "\n",
    "# dropped_cat = ['mc_run_id', 'n_participants', 'grouping', 'sd_land', 'sex', 'age_group', 'sd_ghgs', 'sd_watscar', 'sd_eut', 'sd_ghgs_n2o', 'sd_bio','sd_watuse', 'sd_acid', 'sd_ghgs_ch4']\n",
    "# df=pd.read_csv('Results_21MAR2022_nokcaladjust.csv', index_col=False) #Read from File\n",
    "# df.drop(dropped_cat, axis=1, inplace=True)\n",
    "\n",
    "# Box Plots to Check for Outliers\n",
    "\n",
    "#data_mean = df.iloc[:, :]\n",
    "#data_mean.plot(kind='box', subplots=True, layout=(6,4), sharex=False, sharey=False, fontsize=12, figsize=(18,24))\n",
    "\n",
    "\n",
    "# Pair plot to check relationships between features\n",
    "\n",
    "# sns.pairplot(df[['mean_land', 'mean_ghgs', 'mean_ghgs_ch4', 'mean_ghgs_n2o', 'mean_watscar']+ ['diet_group']], hue=\"diet_group\")\n",
    "\n",
    "\n",
    "# Scalar normalisation of data\n",
    "\n",
    "#x = df.iloc[:,0:9]\n",
    "#min_max_scaler = preprocessing.MinMaxScaler()\n",
    "#x_scaled = min_max_scaler.fit_transform(x)\n",
    "#norm_df = pd.DataFrame(x_scaled)\n",
    "\n",
    "#norm_df.rename(columns=lambda x: list(df)[x], inplace=True)\n",
    "#norm_df[\"diet_group\"] = df[\"diet_group\"]\n",
    "\n",
    "# Printing all the means for each diet group wrt the features\n",
    "#diets = ['vegan', 'veggie', 'fish', 'meat50', 'meat', 'meat100']\n",
    "#for diet in diets:\n",
    "    #norm_diet_df = norm_df.loc[df['diet_group'] == diet]\n",
    "    #print(diet)\n",
    "    #print(norm_diet_df.mean(numeric_only=True))\n",
    "    #print()\n",
    "\n",
    "\n",
    "# Data processing for next .csv file done in Excel and imported here\n",
    "\n",
    "tree_df=pd.read_csv('treemap_recategorised.csv', index_col=False) #Read from File\n",
    "\n",
    "# Remove entries\n",
    "#removed = ['Eutrophication', 'Land']\n",
    "# temp_tree = tree_df\n",
    "#for rem in removed:\n",
    "#    temp_tree = temp_tree[temp_tree.pollution_and_resource != rem]\n",
    "    \n",
    "# Treemap plot\n",
    "\n",
    "# 'Eutrophication', 'Land'\n",
    "removed_items = ['Eutrophication', 'Land']\n",
    "# 'meat'\n",
    "removed_diets = []\n",
    "\n",
    "temp_df = tree_df\n",
    "for item in removed_items:\n",
    "    temp_df = temp_df.drop(temp_df[temp_df['pollution_and_resource'] == item].index)\n",
    "\n",
    "for diet in removed_diets:\n",
    "    temp_df = temp_df.drop(temp_df[temp_df['diet_group'] == diet].index)\n",
    "\n",
    "px.treemap(data_frame=temp_df, path=['diet_group','pollution_and_resource'], values='relative_value',color='relative_value', color_continuous_scale='temps', width=1000, height=700)\n",
    "\n",
    "# px.treemap(data_frame=temp_df, path=['pollution_and_resource', 'diet_group'], values='relative_value', color='relative_value', color_continuous_scale='temps', width=1000, height=700)\n"
   ]
  },
  {
   "cell_type": "code",
   "execution_count": null,
   "id": "4f481933",
   "metadata": {},
   "outputs": [],
   "source": []
  },
  {
   "cell_type": "code",
   "execution_count": null,
   "id": "f3cfebbf",
   "metadata": {},
   "outputs": [],
   "source": []
  },
  {
   "cell_type": "code",
   "execution_count": null,
   "id": "e9e5fec1",
   "metadata": {},
   "outputs": [],
   "source": []
  }
 ],
 "metadata": {
  "kernelspec": {
   "display_name": "Python 3 (ipykernel)",
   "language": "python",
   "name": "python3"
  },
  "language_info": {
   "codemirror_mode": {
    "name": "ipython",
    "version": 3
   },
   "file_extension": ".py",
   "mimetype": "text/x-python",
   "name": "python",
   "nbconvert_exporter": "python",
   "pygments_lexer": "ipython3",
   "version": "3.11.5"
  }
 },
 "nbformat": 4,
 "nbformat_minor": 5
}
